{
 "cells": [
  {
   "cell_type": "code",
   "execution_count": 1,
   "metadata": {},
   "outputs": [],
   "source": [
    "import imageio\n",
    "import os"
   ]
  },
  {
   "cell_type": "code",
   "execution_count": 26,
   "metadata": {},
   "outputs": [
    {
     "name": "stderr",
     "output_type": "stream",
     "text": [
      "/var/folders/ql/5nr7rnkx6ws9qmnn9phw19sh0000gn/T/ipykernel_55228/2621413807.py:12: DeprecationWarning: Starting with ImageIO v3 the behavior of this function will switch to that of iio.v3.imread. To keep the current behavior (and make this warning dissapear) use `import imageio.v2 as imageio` or call `imageio.v2.imread` directly.\n",
      "  image = imageio.imread(os.path.join(_train_dir, f))\n"
     ]
    }
   ],
   "source": [
    "# Build GIF\n",
    "gif_name = \"test\"\n",
    "plot_dir = \"/Users/maxbronckers/Downloads/GI-PVI/results/2022-06-10-22.15.04_/plots\"\n",
    "\n",
    "# plot_dir = \"/Users/maxbronckers/Downloads/GI-PVI/results/2022-06-07-08.47.45_eval-all/plots\"\n",
    "\n",
    "with imageio.get_writer(f'{plot_dir}/{gif_name}.gif', mode='I') as writer:\n",
    "    _train_dir = os.path.join(plot_dir, \"training/\")\n",
    "    filenames = next(os.walk(_train_dir), (None, None, []))[2]\n",
    "    filenames.sort()\n",
    "    for f in filenames:\n",
    "        image = imageio.imread(os.path.join(_train_dir, f))\n",
    "        writer.append_data(image)"
   ]
  },
  {
   "cell_type": "code",
   "execution_count": null,
   "metadata": {},
   "outputs": [],
   "source": []
  }
 ],
 "metadata": {
  "interpreter": {
   "hash": "79600f389191c07bf098c8d280460ad7a78f6a2a873f153fb452b067513f658f"
  },
  "kernelspec": {
   "display_name": "Python 3.9.9 ('venv': venv)",
   "language": "python",
   "name": "python3"
  },
  "language_info": {
   "codemirror_mode": {
    "name": "ipython",
    "version": 3
   },
   "file_extension": ".py",
   "mimetype": "text/x-python",
   "name": "python",
   "nbconvert_exporter": "python",
   "pygments_lexer": "ipython3",
   "version": "3.9.9"
  },
  "orig_nbformat": 4
 },
 "nbformat": 4,
 "nbformat_minor": 2
}
