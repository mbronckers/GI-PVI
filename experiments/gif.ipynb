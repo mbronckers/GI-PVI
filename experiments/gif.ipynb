{
 "cells": [
  {
   "cell_type": "code",
   "execution_count": 1,
   "metadata": {},
   "outputs": [],
   "source": [
    "import imageio\n",
    "import os"
   ]
  },
  {
   "cell_type": "code",
   "execution_count": 30,
   "metadata": {},
   "outputs": [],
   "source": [
    "import re\n",
    "\n",
    "def atoi(text):\n",
    "    return int(text) if text.isdigit() else text\n",
    "\n",
    "def natural_keys(text):\n",
    "    '''\n",
    "    alist.sort(key=natural_keys) sorts in human order\n",
    "    http://nedbatchelder.com/blog/200712/human_sorting.html\n",
    "    (See Toothy's implementation in the comments)\n",
    "    '''\n",
    "    return [ atoi(c) for c in re.split(r'(\\d+)', text) ]"
   ]
  },
  {
   "cell_type": "code",
   "execution_count": 32,
   "metadata": {},
   "outputs": [
    {
     "name": "stdout",
     "output_type": "stream",
     "text": [
      "['2022-06-10-22.15.04_0.png', '2022-06-10-22.15.04_100.png', '2022-06-10-22.15.04_200.png', '2022-06-10-22.15.04_300.png', '2022-06-10-22.15.04_400.png', '2022-06-10-22.15.04_500.png', '2022-06-10-22.15.04_600.png', '2022-06-10-22.15.04_700.png', '2022-06-10-22.15.04_800.png', '2022-06-10-22.15.04_900.png', '2022-06-10-22.15.04_1000.png', '2022-06-10-22.15.04_1100.png', '2022-06-10-22.15.04_1200.png', '2022-06-10-22.15.04_1300.png', '2022-06-10-22.15.04_1400.png', '2022-06-10-22.15.04_1499.png']\n"
     ]
    },
    {
     "name": "stderr",
     "output_type": "stream",
     "text": [
      "/var/folders/ql/5nr7rnkx6ws9qmnn9phw19sh0000gn/T/ipykernel_55228/3211302857.py:15: DeprecationWarning: Starting with ImageIO v3 the behavior of this function will switch to that of iio.v3.imread. To keep the current behavior (and make this warning dissapear) use `import imageio.v2 as imageio` or call `imageio.v2.imread` directly.\n",
      "  images = list(map(lambda filename: imageio.imread(os.path.join(_train_dir, filename)), filenames))\n"
     ]
    }
   ],
   "source": [
    "# Build GIF\n",
    "gif_name = \"test\"\n",
    "plot_dir = \"/Users/maxbronckers/Downloads/GI-PVI/results/2022-06-10-22.15.04_/plots\"\n",
    "\n",
    "export_name = f'{plot_dir}/{gif_name}.gif'\n",
    "\n",
    "_train_dir = os.path.join(plot_dir, \"training/\")\n",
    "filenames = next(os.walk(_train_dir), (None, None, []))[2]\n",
    "filenames.sort(key=natural_keys)\n",
    "\n",
    "\n",
    "images = list(map(lambda filename: imageio.imread(os.path.join(_train_dir, filename)), filenames))\n",
    "\n",
    "imageio.mimsave(export_name, images, format='GIF', duration=0.2)"
   ]
  },
  {
   "cell_type": "code",
   "execution_count": null,
   "metadata": {},
   "outputs": [],
   "source": []
  }
 ],
 "metadata": {
  "interpreter": {
   "hash": "03554a3b958796e9f601eb4c099ea8a724837ec686441e47caabab69f1671920"
  },
  "kernelspec": {
   "display_name": "Python 3.7.12 ('venv': virtualenv)",
   "language": "python",
   "name": "python3"
  },
  "language_info": {
   "codemirror_mode": {
    "name": "ipython",
    "version": 3
   },
   "file_extension": ".py",
   "mimetype": "text/x-python",
   "name": "python",
   "nbconvert_exporter": "python",
   "pygments_lexer": "ipython3",
   "version": "3.7.12"
  },
  "orig_nbformat": 4
 },
 "nbformat": 4,
 "nbformat_minor": 2
}
