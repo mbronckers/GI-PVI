{
 "cells": [
  {
   "cell_type": "markdown",
   "metadata": {},
   "source": [
    "Load existing (saved) VS state, results, and metrics"
   ]
  },
  {
   "cell_type": "code",
   "execution_count": 1,
   "metadata": {},
   "outputs": [
    {
     "name": "stderr",
     "output_type": "stream",
     "text": [
      "/homes/mojb2/Thesis/GI-PVI/venv/lib/python3.7/site-packages/tqdm/auto.py:22: TqdmWarning: IProgress not found. Please update jupyter and ipywidgets. See https://ipywidgets.readthedocs.io/en/stable/user_install.html\n",
      "  from .autonotebook import tqdm as notebook_tqdm\n"
     ]
    }
   ],
   "source": [
    "import matplotlib.pyplot as plt\n",
    "import seaborn as sns\n",
    "import numpy as np\n",
    "import lab.torch as B\n",
    "import torch\n",
    "import os, sys\n",
    "import pickle\n",
    "import pandas as pd"
   ]
  },
  {
   "cell_type": "code",
   "execution_count": 2,
   "metadata": {},
   "outputs": [],
   "source": [
    "%load_ext autoreload\n",
    "%autoreload 2"
   ]
  },
  {
   "cell_type": "code",
   "execution_count": 3,
   "metadata": {},
   "outputs": [],
   "source": [
    "from varz import Vars, namespace\n",
    "from wbml import experiment, out, plot\n",
    "colors = ['#1f77b4', '#ff7f0e', '#2ca02c', '#d62728', '#9467bd', '#8c564b', '#e377c2', '#7f7f7f', '#bcbd22', '#17becf']"
   ]
  },
  {
   "cell_type": "code",
   "execution_count": 13,
   "metadata": {},
   "outputs": [],
   "source": [
    "# experiment_name = \"07-14-20.47.03_pvi-class-present\"\n",
    "# _exp_dir = f\"/homes/mojb2/Thesis/GI-PVI/results/{experiment_name}/\"\n",
    "\n",
    "exp_n = \"results/07-14-20.13.39_sync-pvi-10c-5i-500e-400n-20m-analytic-10clients-present\"\n",
    "exp_n = \"results/07-22-09.06.31_seq-pvi-adult-1c-1g-2000l-0-8n-100m\"\n",
    "_exp_dir = f\"/homes/mojb2/Thesis/GI-PVI/{exp_n}/\""
   ]
  },
  {
   "cell_type": "code",
   "execution_count": 8,
   "metadata": {},
   "outputs": [],
   "source": [
    "from utils.review import latest_subdir\n",
    "_exp_dir = latest_subdir()"
   ]
  },
  {
   "cell_type": "code",
   "execution_count": 14,
   "metadata": {},
   "outputs": [
    {
     "data": {
      "text/plain": [
       "dict_keys(['zs.client0_z', 'ts.client0_layer0_yz', 'ts.client0_layer0_nz', 'ts.client0_layer1_yz', 'ts.client0_layer1_nz', 'ts.client0_layer2_yz', 'ts.client0_layer2_nz'])"
      ]
     },
     "execution_count": 14,
     "metadata": {},
     "output_type": "execute_result"
    }
   ],
   "source": [
    "_vs_state_dict = torch.load(_exp_dir + '/model/_vs.pt')\n",
    "_vs_state_dict.keys()"
   ]
  },
  {
   "cell_type": "code",
   "execution_count": 15,
   "metadata": {},
   "outputs": [
    {
     "name": "stdout",
     "output_type": "stream",
     "text": [
      "zs.client0_z:\n",
      "    (100x108 array of data type float64)\n",
      "    [[-1.381e-01 -5.429e-01  1.412e+00 ...  1.038e+00  5.465e-02  1.035e-01]\n",
      "     [-5.316e-01  1.040e+00  1.104e+00 ...  1.348e+00 -2.908e-01 -1.180e-01]\n",
      "     [ 3.772e-01  3.472e-01 -4.207e+00 ...  7.049e-01 -1.815e-01 -2.048e-02]\n",
      "     ...\n",
      "     [-1.031e+00  4.092e+00  1.215e+00 ...  4.654e+00  2.231e-01  1.738e-03]\n",
      "     [-4.764e-01 -1.870e-01 -6.177e-01 ...  2.094e-01  8.010e-02 -1.782e-01]\n",
      "     [ 1.844e-01  2.883e-01 -3.186e+00 ...  2.834e+00 -1.922e-01 -3.250e-01]]\n",
      "ts.client0_layer0_yz:\n",
      "    (100x50 array of data type float64)\n",
      "    [[ 1.923  1.803  1.609 ... -0.898 -2.378 -2.765]\n",
      "     [-0.629  1.926  2.005 ... -2.045  1.539  0.099]\n",
      "     [-2.303 -0.127 -0.077 ... -1.418  0.058  0.074]\n",
      "     ...\n",
      "     [ 0.278  3.791 -0.899 ... -0.43   1.56   0.795]\n",
      "     [ 0.844 -0.17   0.81  ...  0.676 -1.563  0.641]\n",
      "     [-1.47   0.19   1.132 ... -2.29  -0.45   0.213]]\n",
      "ts.client0_layer0_nz:\n",
      "    (50x100 array of data type float64)\n",
      "    [[1.482e-02 6.658e-03 6.001e-02 ... 1.683e-03 3.316e-03 1.406e-02]\n",
      "     [4.607e+01 1.546e+01 1.285e+00 ... 9.877e+00 1.962e-03 2.250e+01]\n",
      "     [3.567e-03 1.181e-02 8.039e-03 ... 5.044e-03 2.971e-03 7.922e-03]\n",
      "     ...\n",
      "     [3.218e-03 3.324e-02 1.199e-02 ... 7.373e-03 3.806e-03 1.423e-02]\n",
      "     [2.495e-02 1.866e-02 9.254e-03 ... 1.056e-02 2.098e-02 5.641e-03]\n",
      "     [2.790e-02 1.507e-02 6.670e-03 ... 1.936e-02 2.986e-03 9.398e-03]]\n",
      "ts.client0_layer1_yz:\n",
      "    (100x50 array of data type float64)\n",
      "    [[-0.684 -0.609  1.761 ... -0.93   1.346  1.075]\n",
      "     [ 0.242  1.135 -0.567 ...  0.337 -1.875 -1.109]\n",
      "     [-0.445 -0.214 -0.517 ... -0.934 -0.5    1.572]\n",
      "     ...\n",
      "     [ 1.062 -2.132  0.498 ...  0.753  0.513  0.435]\n",
      "     [ 1.679  0.714  0.901 ...  0.019  0.907 -0.561]\n",
      "     [-0.593 -0.78   0.577 ...  0.41  -0.801  0.327]]\n",
      "ts.client0_layer1_nz:\n",
      "    (50x100 array of data type float64)\n",
      "    [[0.002 0.01  0.004 ... 0.012 0.01  0.016]\n",
      "     [0.007 0.009 0.002 ... 0.01  0.008 0.003]\n",
      "     [0.009 0.004 0.003 ... 0.002 0.006 0.011]\n",
      "     ...\n",
      "     [0.005 0.016 0.004 ... 0.013 0.012 0.014]\n",
      "     [0.009 0.007 0.002 ... 0.009 0.01  0.005]\n",
      "     [0.008 0.01  0.011 ... 0.011 0.003 0.014]]\n",
      "ts.client0_layer2_yz:\n",
      "    (100x2 array of data type float64)\n",
      "    [[-1.069  1.521]\n",
      "     [ 1.528 -0.635]\n",
      "     [ 1.466 -1.032]\n",
      "     [ 1.817 -1.37 ]\n",
      "     [ 1.771 -1.427]\n",
      "     [ 1.91  -1.461]\n",
      "     [ 2.339 -1.665]\n",
      "     [-2.698  3.355]\n",
      "     [-1.02   1.618]\n",
      "     [ 3.527 -2.269]\n",
      "     [ 2.505 -1.818]\n",
      "     [ 2.552 -1.829]\n",
      "     [ 2.633 -2.121]\n",
      "     [ 2.572 -2.018]\n",
      "     [ 2.704 -1.983]\n",
      "     [-0.87   1.399]\n",
      "     [ 0.675 -0.214]\n",
      "     [ 2.586 -2.193]\n",
      "     [ 2.299 -1.799]\n",
      "     [ 1.61  -1.226]\n",
      "     [-0.503  1.118]\n",
      "     [-1.622  2.274]\n",
      "     [-1.124  1.657]\n",
      "     [-1.208  1.742]\n",
      "     [ 2.248 -1.627]\n",
      "     [ 1.876 -1.422]\n",
      "     [ 1.4   -0.74 ]\n",
      "     [ 2.783 -2.022]\n",
      "     [ 1.993 -1.523]\n",
      "     [ 1.659 -1.328]\n",
      "     [ 3.373 -2.618]\n",
      "     [ 2.883 -2.172]\n",
      "     [ 3.605 -2.178]\n",
      "     [ 2.944 -2.234]\n",
      "     [ 4.702 -4.041]\n",
      "     [ 0.175  0.763]\n",
      "     [ 2.326 -1.877]\n",
      "     [ 2.116 -1.684]\n",
      "     [ 1.172 -0.632]\n",
      "     [-3.401  4.025]\n",
      "     [ 3.239 -2.468]\n",
      "     [-0.616  1.219]\n",
      "     [ 2.46  -1.554]\n",
      "     [-0.764  1.199]\n",
      "     [ 1.357 -0.94 ]\n",
      "     [-0.787  1.189]\n",
      "     [-0.982  1.462]\n",
      "     [-0.736  1.241]\n",
      "     [ 3.123 -2.246]\n",
      "     [ 0.817 -0.452]\n",
      "     [ 2.413 -1.87 ]\n",
      "     [ 1.876 -1.378]\n",
      "     [ 1.528 -1.084]\n",
      "     [ 2.189 -1.502]\n",
      "     [ 3.673 -2.634]\n",
      "     [ 2.496 -1.938]\n",
      "     [-2.271  2.943]\n",
      "     [ 2.852 -2.257]\n",
      "     [ 2.887 -2.143]\n",
      "     [-1.39   1.919]\n",
      "     [ 2.446 -2.011]\n",
      "     [-1.228  1.853]\n",
      "     [ 1.808 -1.221]\n",
      "     [ 1.403 -0.997]\n",
      "     [ 3.741 -3.033]\n",
      "     [ 1.861 -1.215]\n",
      "     [ 0.04   0.712]\n",
      "     [ 1.499 -1.109]\n",
      "     [ 3.449 -2.219]\n",
      "     [ 2.633 -2.023]\n",
      "     [ 1.763 -1.212]\n",
      "     [-2.734  3.811]\n",
      "     [-1.561  2.272]\n",
      "     [ 2.815 -1.777]\n",
      "     [ 0.994 -0.646]\n",
      "     [ 2.205 -1.651]\n",
      "     [ 2.318 -1.77 ]\n",
      "     [ 1.791 -1.445]\n",
      "     [ 3.464 -2.201]\n",
      "     [ 1.449 -1.128]\n",
      "     [ 1.925 -1.298]\n",
      "     [ 1.515 -1.061]\n",
      "     [ 1.911 -1.407]\n",
      "     [-1.19   1.676]\n",
      "     [ 2.823 -1.833]\n",
      "     [-0.503  0.886]\n",
      "     [ 2.728 -1.814]\n",
      "     [ 3.768 -2.594]\n",
      "     [-1.033  1.527]\n",
      "     [ 0.946 -0.637]\n",
      "     [ 0.337  0.76 ]\n",
      "     [-0.43   1.229]\n",
      "     [ 2.17  -1.333]\n",
      "     [ 1.938 -1.548]\n",
      "     [ 2.529 -1.825]\n",
      "     [ 2.157 -1.41 ]\n",
      "     [ 2.971 -1.987]\n",
      "     [ 0.025  1.237]\n",
      "     [-0.533  0.993]\n",
      "     [ 1.053 -0.574]]\n",
      "ts.client0_layer2_nz:\n",
      "    (2x100 array of data type float64)\n",
      "    [[1.698e+01 5.984e+00 9.413e+00 7.245e+00 1.039e+01 7.210e+00 2.862e+00\n",
      "      7.956e+00 1.330e+01 2.378e+00 7.921e+00 2.430e+00 5.425e+00 4.016e+00\n",
      "      3.978e+00 7.688e+00 1.547e+01 8.473e+00 5.429e+00 1.156e+01 2.273e+01\n",
      "      2.126e+01 2.065e+01 2.744e+00 5.811e+00 8.486e+00 6.785e+00 3.844e+00\n",
      "      7.231e+00 2.156e+01 1.191e+00 1.248e+00 2.198e-01 3.824e+00 7.913e+00\n",
      "      2.966e+00 9.331e+00 3.998e+00 3.266e+00 3.089e+00 3.942e+00 4.688e+01\n",
      "      2.571e+00 2.434e+01 1.620e+01 4.860e+01 2.651e+01 2.767e+01 3.728e+00\n",
      "      1.381e+01 2.319e+00 3.467e+00 1.034e+01 2.850e+00 1.087e-01 5.107e+00\n",
      "      2.906e+00 2.014e+00 3.540e+00 1.762e+01 9.283e+00 3.746e+00 4.141e+00\n",
      "      6.570e+00 5.138e+00 6.952e+00 1.418e-01 8.971e+00 4.194e-02 3.217e+00\n",
      "      7.811e+00 2.540e+00 7.663e+00 1.857e+00 1.864e+01 4.881e+00 4.874e+00\n",
      "      1.302e+01 2.719e+00 1.600e+01 4.049e+00 8.407e+00 6.212e+00 1.350e+01\n",
      "      3.097e+00 5.959e+01 2.926e+00 7.566e-02 2.267e+01 1.761e+01 1.210e-01\n",
      "      2.663e+00 2.521e+00 5.143e+00 2.559e+00 9.412e+00 1.873e+00 2.186e+00\n",
      "      1.328e+01 8.661e+00]\n",
      "     [1.562e+01 6.108e+00 9.913e+00 1.322e+01 1.038e+01 7.690e+00 2.696e+00\n",
      "      7.406e+00 1.296e+01 2.472e+00 8.015e+00 2.031e+00 6.396e+00 4.401e+00\n",
      "      4.756e+00 8.205e+00 1.557e+01 1.299e+01 5.105e+00 1.116e+01 6.950e+00\n",
      "      2.002e+01 2.460e+01 2.524e+00 5.722e+00 1.714e+01 2.353e+01 4.151e+00\n",
      "      7.212e+00 2.624e+01 1.409e+00 1.755e+00 9.250e-02 3.454e+00 1.073e+01\n",
      "      3.048e+00 7.935e+00 3.829e+00 3.565e+00 1.975e+00 5.300e+00 1.186e+01\n",
      "      2.340e+00 1.636e+01 1.511e+01 3.580e+01 1.957e+01 1.469e+01 3.723e+00\n",
      "      1.456e+01 2.575e+00 5.243e+00 2.455e+01 3.451e+00 9.870e-02 6.297e+00\n",
      "      3.297e+00 2.445e+00 3.406e+00 1.429e+01 1.070e+01 3.507e+00 4.187e+00\n",
      "      6.492e+00 5.619e+00 6.818e+00 5.879e-02 7.188e+00 3.395e-02 3.776e+00\n",
      "      1.005e+01 1.729e+00 6.355e+00 1.804e+00 2.530e+01 5.207e+00 4.862e+00\n",
      "      1.916e+01 2.817e+00 3.159e+01 4.182e+00 4.366e+01 1.828e+01 1.384e+01\n",
      "      3.829e+00 2.246e+01 2.404e+00 5.822e-02 1.824e+01 1.645e+01 1.409e-01\n",
      "      3.437e+00 2.864e+00 6.869e+00 3.138e+00 8.554e+00 2.060e+00 2.155e+00\n",
      "      6.395e+00 9.323e+00]]\n"
     ]
    }
   ],
   "source": [
    "vs: Vars = Vars(torch.float64)\n",
    "\n",
    "for idx, name in enumerate(_vs_state_dict.keys()):\n",
    "    if name.__contains__(\"output_var\") or \\\n",
    "        name.__contains__(\"nz\"):\n",
    "\n",
    "        vs.positive(_vs_state_dict[name], name=name)\n",
    "    else:\n",
    "        vs.unbounded(_vs_state_dict[name], name=name)\n",
    "\n",
    "vs.print()"
   ]
  },
  {
   "cell_type": "code",
   "execution_count": 15,
   "metadata": {},
   "outputs": [
    {
     "data": {
      "text/plain": [
       "tensor([[ 7.0306,  0.8276,  1.9872,  ...,  7.6907, -1.0912,  9.6272],\n",
       "        [ 0.4374, -0.0632,  3.7936,  ..., -0.0864,  4.1394, 10.2988],\n",
       "        [ 0.5280,  1.7193,  2.5917,  ...,  2.3037,  6.4709,  9.8093],\n",
       "        ...,\n",
       "        [14.6137,  6.9315,  9.5327,  ..., 17.2114,  5.8873, 30.2340],\n",
       "        [ 6.0707,  1.2877,  2.3663,  ...,  6.1997,  3.0969,  7.4359],\n",
       "        [10.7130,  4.6072, 11.6179,  ..., 15.3329, 13.9802, 28.7243]],\n",
       "       device='cuda:0', requires_grad=True)"
      ]
     },
     "execution_count": 15,
     "metadata": {},
     "output_type": "execute_result"
    }
   ],
   "source": [
    "_vs_state_dict['ts.client0_layer1_nz']"
   ]
  },
  {
   "cell_type": "code",
   "execution_count": 10,
   "metadata": {},
   "outputs": [
    {
     "data": {
      "text/plain": [
       "tensor([[ 7.0306,  0.8276,  1.9872,  ...,  7.6907,     nan,  9.6272],\n",
       "        [ 0.4374,     nan,  3.7936,  ...,     nan,  4.1394, 10.2988],\n",
       "        [ 0.5280,  1.7193,  2.5917,  ...,  2.3037,  6.4709,  9.8093],\n",
       "        ...,\n",
       "        [14.6137,  6.9315,  9.5327,  ..., 17.2114,  5.8873, 30.2340],\n",
       "        [ 6.0707,  1.2877,  2.3663,  ...,  6.1997,  3.0969,  7.4359],\n",
       "        [10.7130,  4.6072, 11.6179,  ..., 15.3329, 13.9802, 28.7243]],\n",
       "       device='cuda:0', dtype=torch.float64, grad_fn=<ExpBackward0>)"
      ]
     },
     "execution_count": 10,
     "metadata": {},
     "output_type": "execute_result"
    }
   ],
   "source": [
    "vs['ts.client0_layer1_nz']"
   ]
  },
  {
   "cell_type": "code",
   "execution_count": 4,
   "metadata": {},
   "outputs": [
    {
     "data": {
      "text/html": [
       "<div>\n",
       "<style scoped>\n",
       "    .dataframe tbody tr th:only-of-type {\n",
       "        vertical-align: middle;\n",
       "    }\n",
       "\n",
       "    .dataframe tbody tr th {\n",
       "        vertical-align: top;\n",
       "    }\n",
       "\n",
       "    .dataframe thead th {\n",
       "        text-align: right;\n",
       "    }\n",
       "</style>\n",
       "<table border=\"1\" class=\"dataframe\">\n",
       "  <thead>\n",
       "    <tr style=\"text-align: right;\">\n",
       "      <th></th>\n",
       "      <th>train_mll</th>\n",
       "      <th>train_acc</th>\n",
       "      <th>test_mll</th>\n",
       "      <th>test_acc</th>\n",
       "    </tr>\n",
       "    <tr>\n",
       "      <th>iteration</th>\n",
       "      <th></th>\n",
       "      <th></th>\n",
       "      <th></th>\n",
       "      <th></th>\n",
       "    </tr>\n",
       "  </thead>\n",
       "  <tbody>\n",
       "    <tr>\n",
       "      <th>0</th>\n",
       "      <td>-2.275095</td>\n",
       "      <td>0.242483</td>\n",
       "      <td>-2.274186</td>\n",
       "      <td>0.2468</td>\n",
       "    </tr>\n",
       "    <tr>\n",
       "      <th>1</th>\n",
       "      <td>-0.587516</td>\n",
       "      <td>0.865717</td>\n",
       "      <td>-0.565924</td>\n",
       "      <td>0.8720</td>\n",
       "    </tr>\n",
       "    <tr>\n",
       "      <th>2</th>\n",
       "      <td>-0.477612</td>\n",
       "      <td>0.890583</td>\n",
       "      <td>-0.455922</td>\n",
       "      <td>0.8972</td>\n",
       "    </tr>\n",
       "    <tr>\n",
       "      <th>3</th>\n",
       "      <td>-0.437449</td>\n",
       "      <td>0.894833</td>\n",
       "      <td>-0.420010</td>\n",
       "      <td>0.9002</td>\n",
       "    </tr>\n",
       "    <tr>\n",
       "      <th>4</th>\n",
       "      <td>-0.408486</td>\n",
       "      <td>0.902367</td>\n",
       "      <td>-0.398197</td>\n",
       "      <td>0.9047</td>\n",
       "    </tr>\n",
       "    <tr>\n",
       "      <th>5</th>\n",
       "      <td>-0.370016</td>\n",
       "      <td>0.910200</td>\n",
       "      <td>-0.353391</td>\n",
       "      <td>0.9150</td>\n",
       "    </tr>\n",
       "    <tr>\n",
       "      <th>6</th>\n",
       "      <td>-0.351272</td>\n",
       "      <td>0.913317</td>\n",
       "      <td>-0.339474</td>\n",
       "      <td>0.9176</td>\n",
       "    </tr>\n",
       "    <tr>\n",
       "      <th>7</th>\n",
       "      <td>-0.362480</td>\n",
       "      <td>0.912100</td>\n",
       "      <td>-0.346549</td>\n",
       "      <td>0.9177</td>\n",
       "    </tr>\n",
       "    <tr>\n",
       "      <th>8</th>\n",
       "      <td>-0.328072</td>\n",
       "      <td>0.918317</td>\n",
       "      <td>-0.314869</td>\n",
       "      <td>0.9235</td>\n",
       "    </tr>\n",
       "    <tr>\n",
       "      <th>9</th>\n",
       "      <td>-0.312998</td>\n",
       "      <td>0.921117</td>\n",
       "      <td>-0.304812</td>\n",
       "      <td>0.9228</td>\n",
       "    </tr>\n",
       "  </tbody>\n",
       "</table>\n",
       "</div>"
      ],
      "text/plain": [
       "           train_mll  train_acc  test_mll  test_acc\n",
       "iteration                                          \n",
       "0          -2.275095   0.242483 -2.274186    0.2468\n",
       "1          -0.587516   0.865717 -0.565924    0.8720\n",
       "2          -0.477612   0.890583 -0.455922    0.8972\n",
       "3          -0.437449   0.894833 -0.420010    0.9002\n",
       "4          -0.408486   0.902367 -0.398197    0.9047\n",
       "5          -0.370016   0.910200 -0.353391    0.9150\n",
       "6          -0.351272   0.913317 -0.339474    0.9176\n",
       "7          -0.362480   0.912100 -0.346549    0.9177\n",
       "8          -0.328072   0.918317 -0.314869    0.9235\n",
       "9          -0.312998   0.921117 -0.304812    0.9228"
      ]
     },
     "execution_count": 4,
     "metadata": {},
     "output_type": "execute_result"
    }
   ],
   "source": [
    "pd.read_csv(_exp_dir+\"/metrics/server_log.csv\", index_col=0)"
   ]
  },
  {
   "cell_type": "code",
   "execution_count": 92,
   "metadata": {},
   "outputs": [],
   "source": [
    "eval_all = pd.read_csv(_exp_dir+\"/model/eval_all.csv\")\n",
    "\n",
    "y_pred = eval_all['preds_0']\n",
    "x, y = eval_all['x_eval'], eval_all['y_eval']"
   ]
  },
  {
   "cell_type": "code",
   "execution_count": 115,
   "metadata": {},
   "outputs": [
    {
     "data": {
      "text/html": [
       "<div>\n",
       "<style scoped>\n",
       "    .dataframe tbody tr th:only-of-type {\n",
       "        vertical-align: middle;\n",
       "    }\n",
       "\n",
       "    .dataframe tbody tr th {\n",
       "        vertical-align: top;\n",
       "    }\n",
       "\n",
       "    .dataframe thead th {\n",
       "        text-align: right;\n",
       "    }\n",
       "</style>\n",
       "<table border=\"1\" class=\"dataframe\">\n",
       "  <thead>\n",
       "    <tr style=\"text-align: right;\">\n",
       "      <th></th>\n",
       "      <th>preds_0</th>\n",
       "      <th>preds_1</th>\n",
       "      <th>preds_2</th>\n",
       "      <th>preds_3</th>\n",
       "      <th>preds_4</th>\n",
       "      <th>preds_5</th>\n",
       "      <th>preds_6</th>\n",
       "      <th>preds_7</th>\n",
       "      <th>preds_8</th>\n",
       "      <th>preds_9</th>\n",
       "    </tr>\n",
       "  </thead>\n",
       "  <tbody>\n",
       "    <tr>\n",
       "      <th>0</th>\n",
       "      <td>2.059990</td>\n",
       "      <td>0.399058</td>\n",
       "      <td>0.217011</td>\n",
       "      <td>0.603867</td>\n",
       "      <td>0.736127</td>\n",
       "      <td>0.499647</td>\n",
       "      <td>0.550682</td>\n",
       "      <td>0.087668</td>\n",
       "      <td>1.712231</td>\n",
       "      <td>-0.180364</td>\n",
       "    </tr>\n",
       "    <tr>\n",
       "      <th>1</th>\n",
       "      <td>2.044758</td>\n",
       "      <td>0.290843</td>\n",
       "      <td>0.217011</td>\n",
       "      <td>1.108557</td>\n",
       "      <td>0.736127</td>\n",
       "      <td>0.499647</td>\n",
       "      <td>0.852704</td>\n",
       "      <td>0.087668</td>\n",
       "      <td>1.712231</td>\n",
       "      <td>-0.180364</td>\n",
       "    </tr>\n",
       "    <tr>\n",
       "      <th>2</th>\n",
       "      <td>2.165924</td>\n",
       "      <td>0.399058</td>\n",
       "      <td>0.217011</td>\n",
       "      <td>0.020202</td>\n",
       "      <td>0.442697</td>\n",
       "      <td>-0.119626</td>\n",
       "      <td>-0.075902</td>\n",
       "      <td>0.057520</td>\n",
       "      <td>1.712231</td>\n",
       "      <td>-0.180364</td>\n",
       "    </tr>\n",
       "    <tr>\n",
       "      <th>3</th>\n",
       "      <td>-0.364233</td>\n",
       "      <td>-0.792416</td>\n",
       "      <td>0.174738</td>\n",
       "      <td>-2.195668</td>\n",
       "      <td>-2.743486</td>\n",
       "      <td>-2.258039</td>\n",
       "      <td>-2.091673</td>\n",
       "      <td>0.087668</td>\n",
       "      <td>-0.240627</td>\n",
       "      <td>-0.180364</td>\n",
       "    </tr>\n",
       "    <tr>\n",
       "      <th>4</th>\n",
       "      <td>2.257727</td>\n",
       "      <td>0.399058</td>\n",
       "      <td>0.217011</td>\n",
       "      <td>0.020202</td>\n",
       "      <td>0.230976</td>\n",
       "      <td>0.483416</td>\n",
       "      <td>-0.257205</td>\n",
       "      <td>-0.072809</td>\n",
       "      <td>0.924884</td>\n",
       "      <td>-0.203344</td>\n",
       "    </tr>\n",
       "    <tr>\n",
       "      <th>...</th>\n",
       "      <td>...</td>\n",
       "      <td>...</td>\n",
       "      <td>...</td>\n",
       "      <td>...</td>\n",
       "      <td>...</td>\n",
       "      <td>...</td>\n",
       "      <td>...</td>\n",
       "      <td>...</td>\n",
       "      <td>...</td>\n",
       "      <td>...</td>\n",
       "    </tr>\n",
       "    <tr>\n",
       "      <th>995</th>\n",
       "      <td>2.257399</td>\n",
       "      <td>0.399058</td>\n",
       "      <td>0.217011</td>\n",
       "      <td>-0.587852</td>\n",
       "      <td>0.247868</td>\n",
       "      <td>0.499647</td>\n",
       "      <td>-0.257205</td>\n",
       "      <td>-0.166552</td>\n",
       "      <td>-0.316398</td>\n",
       "      <td>-0.180364</td>\n",
       "    </tr>\n",
       "    <tr>\n",
       "      <th>996</th>\n",
       "      <td>2.252124</td>\n",
       "      <td>0.399058</td>\n",
       "      <td>0.217011</td>\n",
       "      <td>-0.962433</td>\n",
       "      <td>0.288781</td>\n",
       "      <td>0.499647</td>\n",
       "      <td>-0.257205</td>\n",
       "      <td>-0.210903</td>\n",
       "      <td>-0.640993</td>\n",
       "      <td>-0.180364</td>\n",
       "    </tr>\n",
       "    <tr>\n",
       "      <th>997</th>\n",
       "      <td>1.954223</td>\n",
       "      <td>0.399058</td>\n",
       "      <td>0.217011</td>\n",
       "      <td>-1.287063</td>\n",
       "      <td>0.337003</td>\n",
       "      <td>0.499647</td>\n",
       "      <td>-0.257205</td>\n",
       "      <td>-0.171422</td>\n",
       "      <td>-1.010228</td>\n",
       "      <td>-0.180364</td>\n",
       "    </tr>\n",
       "    <tr>\n",
       "      <th>998</th>\n",
       "      <td>0.911823</td>\n",
       "      <td>-0.061779</td>\n",
       "      <td>0.217011</td>\n",
       "      <td>-1.767127</td>\n",
       "      <td>-1.724604</td>\n",
       "      <td>0.499647</td>\n",
       "      <td>-0.834666</td>\n",
       "      <td>0.004540</td>\n",
       "      <td>-1.069407</td>\n",
       "      <td>-0.180364</td>\n",
       "    </tr>\n",
       "    <tr>\n",
       "      <th>999</th>\n",
       "      <td>1.077973</td>\n",
       "      <td>0.290135</td>\n",
       "      <td>0.217011</td>\n",
       "      <td>-1.712663</td>\n",
       "      <td>-1.470281</td>\n",
       "      <td>0.499647</td>\n",
       "      <td>-0.676546</td>\n",
       "      <td>-0.016568</td>\n",
       "      <td>-1.237149</td>\n",
       "      <td>-0.180364</td>\n",
       "    </tr>\n",
       "  </tbody>\n",
       "</table>\n",
       "<p>1000 rows × 10 columns</p>\n",
       "</div>"
      ],
      "text/plain": [
       "      preds_0   preds_1   preds_2   preds_3   preds_4   preds_5   preds_6  \\\n",
       "0    2.059990  0.399058  0.217011  0.603867  0.736127  0.499647  0.550682   \n",
       "1    2.044758  0.290843  0.217011  1.108557  0.736127  0.499647  0.852704   \n",
       "2    2.165924  0.399058  0.217011  0.020202  0.442697 -0.119626 -0.075902   \n",
       "3   -0.364233 -0.792416  0.174738 -2.195668 -2.743486 -2.258039 -2.091673   \n",
       "4    2.257727  0.399058  0.217011  0.020202  0.230976  0.483416 -0.257205   \n",
       "..        ...       ...       ...       ...       ...       ...       ...   \n",
       "995  2.257399  0.399058  0.217011 -0.587852  0.247868  0.499647 -0.257205   \n",
       "996  2.252124  0.399058  0.217011 -0.962433  0.288781  0.499647 -0.257205   \n",
       "997  1.954223  0.399058  0.217011 -1.287063  0.337003  0.499647 -0.257205   \n",
       "998  0.911823 -0.061779  0.217011 -1.767127 -1.724604  0.499647 -0.834666   \n",
       "999  1.077973  0.290135  0.217011 -1.712663 -1.470281  0.499647 -0.676546   \n",
       "\n",
       "      preds_7   preds_8   preds_9  \n",
       "0    0.087668  1.712231 -0.180364  \n",
       "1    0.087668  1.712231 -0.180364  \n",
       "2    0.057520  1.712231 -0.180364  \n",
       "3    0.087668 -0.240627 -0.180364  \n",
       "4   -0.072809  0.924884 -0.203344  \n",
       "..        ...       ...       ...  \n",
       "995 -0.166552 -0.316398 -0.180364  \n",
       "996 -0.210903 -0.640993 -0.180364  \n",
       "997 -0.171422 -1.010228 -0.180364  \n",
       "998  0.004540 -1.069407 -0.180364  \n",
       "999 -0.016568 -1.237149 -0.180364  \n",
       "\n",
       "[1000 rows x 10 columns]"
      ]
     },
     "execution_count": 115,
     "metadata": {},
     "output_type": "execute_result"
    }
   ],
   "source": [
    "eval_all.loc[:,eval_all.columns.str.startswith('preds')]"
   ]
  },
  {
   "cell_type": "code",
   "execution_count": 100,
   "metadata": {},
   "outputs": [
    {
     "data": {
      "text/plain": [
       "x_eval         3.044162\n",
       "y_eval         1.138349\n",
       "pred_errors    0.469757\n",
       "pred_var       0.490126\n",
       "y_pred_mean    0.668592\n",
       "preds_0        2.059990\n",
       "preds_1        0.399058\n",
       "preds_2        0.217011\n",
       "preds_3        0.603867\n",
       "preds_4        0.736127\n",
       "preds_5        0.499647\n",
       "preds_6        0.550682\n",
       "preds_7        0.087668\n",
       "preds_8        1.712231\n",
       "preds_9       -0.180364\n",
       "Name: 0, dtype: float64"
      ]
     },
     "execution_count": 100,
     "metadata": {},
     "output_type": "execute_result"
    }
   ],
   "source": [
    "eval_all.loc[0]"
   ]
  },
  {
   "cell_type": "code",
   "execution_count": 101,
   "metadata": {},
   "outputs": [
    {
     "data": {
      "text/plain": [
       "0      0.668592\n",
       "1      0.736918\n",
       "2      0.463875\n",
       "3     -1.060410\n",
       "4      0.399992\n",
       "         ...   \n",
       "995    0.211261\n",
       "996    0.140472\n",
       "997    0.050066\n",
       "998   -0.400493\n",
       "999   -0.320880\n",
       "Length: 1000, dtype: float64"
      ]
     },
     "execution_count": 101,
     "metadata": {},
     "output_type": "execute_result"
    }
   ],
   "source": [
    "y_pred"
   ]
  },
  {
   "cell_type": "code",
   "execution_count": 63,
   "metadata": {},
   "outputs": [],
   "source": [
    "row0 = eval_all.loc[0]"
   ]
  },
  {
   "cell_type": "code",
   "execution_count": 70,
   "metadata": {},
   "outputs": [
    {
     "data": {
      "text/plain": [
       "11.839531654415293"
      ]
     },
     "execution_count": 70,
     "metadata": {},
     "output_type": "execute_result"
    }
   ],
   "source": [
    "row0[-9:].var()"
   ]
  },
  {
   "cell_type": "code",
   "execution_count": 69,
   "metadata": {},
   "outputs": [
    {
     "data": {
      "text/plain": [
       "0.370028661187972"
      ]
     },
     "execution_count": 69,
     "metadata": {},
     "output_type": "execute_result"
    }
   ],
   "source": [
    "row0[-9:].mean()"
   ]
  },
  {
   "cell_type": "code",
   "execution_count": 68,
   "metadata": {},
   "outputs": [],
   "source": [
    "eval = pd.read_csv(_exp_dir+\"model/eval_test.csv\")"
   ]
  },
  {
   "cell_type": "code",
   "execution_count": 106,
   "metadata": {},
   "outputs": [],
   "source": [
    "x_te, y_te = eval['x_test'], eval['y_test']\n",
    "\n",
    "_preds_idx = [f'preds_{i}' for i in range(10)]\n",
    "y_preds = eval[_preds_idx].mean(1)\n",
    "\n",
    "quartiles = np.quantile(eval[_preds_idx], np.array((0.05,0.25,0.75,0.95)), axis=1) # [num quartiles x num preds]\n"
   ]
  },
  {
   "cell_type": "code",
   "execution_count": 114,
   "metadata": {},
   "outputs": [
    {
     "data": {
      "image/png": "[encoded data removed]",
      "text/plain": [
       "<Figure size 648x648 with 1 Axes>"
      ]
     },
     "metadata": {
      "needs_background": "light"
     },
     "output_type": "display_data"
    }
   ],
   "source": [
    "fig, ax = plt.subplots(1, 1, figsize=(9,9))\n",
    "\n",
    "sns.scatterplot(y=y_te, x=x_te, label=\"Test data\", ax=ax, \n",
    "            color=colors[0])\n",
    "\n",
    "sns.scatterplot(y=y_preds, x=x_te, label=\"Model predictions\", ax=ax, \n",
    "            color=colors[1])\n",
    "\n",
    "ax.legend()\n",
    "# ax.set_xlabel(f'{}')\n",
    "# ax.set(ylim=(0.60, 1.01), xlim=(-0.005, 0.20))\n",
    "ax.set_xlabel(\"X\")\n",
    "ax.set_ylabel(\"y\")\n",
    "ax.set_title(\"Model predictions on eval data\")\n",
    "ax.legend(loc='upper right', prop={'size': 12})\n",
    "\n",
    "x_te_sorted, q1, q2 = zip(*sorted(zip(x_te, quartiles[1, :], quartiles[2, :])))\n",
    "ax.fill_between(x_te_sorted, q1, q2, color='tab:orange', alpha=0.25, label=\"25-75 percentile\")\n",
    "\n",
    "plot.tweak(ax)"
   ]
  },
  {
   "cell_type": "code",
   "execution_count": null,
   "metadata": {},
   "outputs": [],
   "source": []
  }
 ],
 "metadata": {
  "kernelspec": {
   "display_name": "Python 3.9.13 ('venv': venv)",
   "language": "python",
   "name": "python3"
  },
  "language_info": {
   "codemirror_mode": {
    "name": "ipython",
    "version": 3
   },
   "file_extension": ".py",
   "mimetype": "text/x-python",
   "name": "python",
   "nbconvert_exporter": "python",
   "pygments_lexer": "ipython3",
   "version": "3.9.13"
  },
  "orig_nbformat": 4,
  "vscode": {
   "interpreter": {
    "hash": "79600f389191c07bf098c8d280460ad7a78f6a2a873f153fb452b067513f658f"
   }
  }
 },
 "nbformat": 4,
 "nbformat_minor": 2
}
