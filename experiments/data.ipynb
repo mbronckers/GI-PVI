{
 "cells": [
  {
   "cell_type": "code",
   "execution_count": 1,
   "metadata": {},
   "outputs": [],
   "source": [
    "import matplotlib.pyplot as plt\n",
    "import seaborn as sns\n",
    "import numpy as np\n",
    "import lab.torch as B\n",
    "import torch"
   ]
  },
  {
   "cell_type": "code",
   "execution_count": 2,
   "metadata": {},
   "outputs": [],
   "source": [
    "from dgp import DGP, generate_data, split_data_clients, dgp1"
   ]
  },
  {
   "cell_type": "code",
   "execution_count": 3,
   "metadata": {},
   "outputs": [],
   "source": [
    "%load_ext autoreload\n",
    "%autoreload 2"
   ]
  },
  {
   "cell_type": "code",
   "execution_count": 4,
   "metadata": {},
   "outputs": [],
   "source": [
    "B.default_dtype = torch.float32\n",
    "B.epsilon = 0.0\n",
    "key = B.create_random_state(B.default_dtype, seed=0)\n",
    "torch.set_printoptions(precision=10, sci_mode=False)"
   ]
  },
  {
   "cell_type": "code",
   "execution_count": 11,
   "metadata": {},
   "outputs": [
    {
     "name": "stdout",
     "output_type": "stream",
     "text": [
      "130 µs ± 959 ns per loop (mean ± std. dev. of 7 runs, 10,000 loops each)\n"
     ]
    }
   ],
   "source": [
    "key = B.create_random_state(B.default_dtype, seed=0)\n",
    "\n",
    "n = 100\n",
    "key, m1 = B.randn(key, B.default_dtype, n)\n",
    "key, m2 = B.randn(key, B.default_dtype, n)\n",
    "key, L1 = B.randn(key, B.default_dtype, n, n)\n",
    "key, L2 = B.randn(key, B.default_dtype, n, n)\n",
    "C1, C2 = B.mm(L1, B.transpose(L1)), B.mm(L2, B.transpose(L2))\n",
    "\n",
    "# sample = self.mean + B.cholsolve(B.chol(self.prec), noise) # Cholsolve, wrong\n",
    "\n",
    "# Non-centered, precision parameterization\n",
    "%timeit B.triangular_solve(B.T(B.chol(C1)), m1[..., None], lower_a=False)"
   ]
  },
  {
   "cell_type": "code",
   "execution_count": 13,
   "metadata": {},
   "outputs": [
    {
     "name": "stdout",
     "output_type": "stream",
     "text": [
      "127 µs ± 1.47 µs per loop (mean ± std. dev. of 7 runs, 10,000 loops each)\n"
     ]
    }
   ],
   "source": [
    "%timeit B.cholsolve(B.chol(C1), m1[..., None])"
   ]
  },
  {
   "cell_type": "code",
   "execution_count": 5,
   "metadata": {},
   "outputs": [
    {
     "name": "stdout",
     "output_type": "stream",
     "text": [
      "Downloading adult dataset\n",
      "adult dataset already exists!\n",
      "Input  shape: (48842, 108)\n",
      "Output shape: (48842, 1)\n"
     ]
    }
   ],
   "source": [
    "key, x, y, x_tr, y_tr, x_te, y_te, scale = generate_data(key, DGP.uci_adult)\n"
   ]
  },
  {
   "cell_type": "code",
   "execution_count": 6,
   "metadata": {},
   "outputs": [],
   "source": [
    "from data.split_data import generate_clients_data"
   ]
  },
  {
   "cell_type": "code",
   "execution_count": 8,
   "metadata": {},
   "outputs": [
    {
     "data": {
      "text/plain": [
       "tensor([[0, 1],\n",
       "        [1, 0],\n",
       "        [1, 0],\n",
       "        ...,\n",
       "        [1, 0],\n",
       "        [1, 0],\n",
       "        [1, 0]])"
      ]
     },
     "execution_count": 8,
     "metadata": {},
     "output_type": "execute_result"
    }
   ],
   "source": [
    "y_tr = torch.squeeze(torch.nn.functional.one_hot(y_tr.long(), num_classes=2))\n",
    "y_te = torch.squeeze(torch.nn.functional.one_hot(y_te.long(), num_classes=2))"
   ]
  },
  {
   "cell_type": "code",
   "execution_count": 30,
   "metadata": {},
   "outputs": [
    {
     "name": "stdout",
     "output_type": "stream",
     "text": [
      "torch.Size([9363])\n",
      "torch.Size([29710])\n"
     ]
    }
   ],
   "source": [
    "seed = 0\n",
    "client_size_factor = 0.9\n",
    "class_balance_factor = 0.95\n",
    "num_clients = 10\n",
    "\n",
    "client_data, N, prop_positive, _ = generate_clients_data(x_tr, y_tr, num_clients, client_size_factor, class_balance_factor, seed)"
   ]
  },
  {
   "cell_type": "code",
   "execution_count": 37,
   "metadata": {},
   "outputs": [
    {
     "data": {
      "text/plain": [
       "(7423,)"
      ]
     },
     "execution_count": 37,
     "metadata": {},
     "output_type": "execute_result"
    }
   ],
   "source": [
    "client_data[2]['x'].shape"
   ]
  },
  {
   "cell_type": "code",
   "execution_count": 87,
   "metadata": {},
   "outputs": [],
   "source": [
    "# Setup regression dataset.\n",
    "N = 40  # num/fraction training points\n",
    "key, x, y, x_tr, y_tr, x_te, y_te, scale = generate_data(key, DGP.ober_regression, N, xmin=-4.0, xmax=4.0)\n",
    "x_tr = x_tr.cpu()\n",
    "y_tr = y_tr.cpu()\n",
    "x_te = x_te.cpu()\n",
    "y_te = y_te.cpu()"
   ]
  },
  {
   "cell_type": "code",
   "execution_count": 92,
   "metadata": {},
   "outputs": [],
   "source": [
    "key, x, y, x_tr, y_tr, x_te, y_te, scale = generate_data(key, DGP.ober_regression, N, xmin=-4.0, xmax=4.0)\n",
    "\n",
    "# Normalize data.\n",
    "y_tr_scale = B.std(y_tr)\n",
    "x_tr_scale = B.std(x_tr)\n",
    "x_te /= x_tr_scale\n",
    "x_tr /= x_tr_scale\n",
    "y_tr /= y_tr_scale\n",
    "y_te /= y_tr_scale\n",
    "x /= x_tr_scale\n",
    "y /= y_tr_scale\n",
    "# x /= x.std()\n",
    "# y /= y.std()\n",
    "scale = y_tr.std()"
   ]
  },
  {
   "cell_type": "code",
   "execution_count": 93,
   "metadata": {},
   "outputs": [
    {
     "data": {
      "text/plain": [
       "<matplotlib.collections.PathCollection at 0x7f5aadba3990>"
      ]
     },
     "execution_count": 93,
     "metadata": {},
     "output_type": "execute_result"
    },
    {
     "data": {
      "image/png": "[encoded data removed]",
      "text/plain": [
       "<Figure size 432x288 with 1 Axes>"
      ]
     },
     "metadata": {
      "needs_background": "light"
     },
     "output_type": "display_data"
    }
   ],
   "source": [
    "plt.scatter(x, y)"
   ]
  },
  {
   "cell_type": "code",
   "execution_count": 55,
   "metadata": {},
   "outputs": [
    {
     "name": "stdout",
     "output_type": "stream",
     "text": [
      "tensor(25.4764633179)\n",
      "tensor(35.3837623596)\n"
     ]
    }
   ],
   "source": [
    "xmin = -4\n",
    "xmax = 4\n",
    "size = N\n",
    "key, xl, yl = dgp1(key, int(size / 2), xmin, xmin + ((xmax - xmin) / 4))\n",
    "key, xr, yr = dgp1(key, int(size / 2), xmax - ((xmax - xmin) / 4), xmax)\n",
    "key, x_te, y_te = dgp1(key, size, xmin + ((xmax - xmin) / 4), xmax - ((xmax - xmin) / 4))\n",
    "\n",
    "x_all = B.concat(xl, x_te, xr, axis=0)\n",
    "y_all = B.concat(yl, y_te, yr, axis=0)\n",
    "x_tr = B.concat(xl, xr, axis=0)\n",
    "y_tr = B.concat(yl, yr, axis=0)\n",
    "\n",
    "print(B.std(y_all))\n",
    "print(B.std(y_tr))"
   ]
  },
  {
   "cell_type": "code",
   "execution_count": 82,
   "metadata": {},
   "outputs": [
    {
     "data": {
      "text/plain": [
       "<matplotlib.collections.PathCollection at 0x7f5aadd25550>"
      ]
     },
     "execution_count": 82,
     "metadata": {},
     "output_type": "execute_result"
    },
    {
     "data": {
      "image/png": "[encoded data removed]",
      "text/plain": [
       "<Figure size 432x288 with 1 Axes>"
      ]
     },
     "metadata": {
      "needs_background": "light"
     },
     "output_type": "display_data"
    }
   ],
   "source": [
    "plt.scatter(x=x_tr/B.std(x_tr), y=y_tr/B.std(y_tr))\n",
    "plt.scatter(x=x_te/B.std(x_tr), y=y_te/B.std(y_tr))"
   ]
  },
  {
   "cell_type": "code",
   "execution_count": 59,
   "metadata": {},
   "outputs": [
    {
     "data": {
      "text/plain": [
       "<matplotlib.collections.PathCollection at 0x7f5aae142b90>"
      ]
     },
     "execution_count": 59,
     "metadata": {},
     "output_type": "execute_result"
    },
    {
     "data": {
      "image/png": "[encoded data removed]",
      "text/plain": [
       "<Figure size 432x288 with 1 Axes>"
      ]
     },
     "metadata": {
      "needs_background": "light"
     },
     "output_type": "display_data"
    }
   ],
   "source": [
    "plt.scatter(x=x_tr/B.std(x_all), y=y_tr/B.std(y_all))"
   ]
  },
  {
   "cell_type": "code",
   "execution_count": 30,
   "metadata": {},
   "outputs": [
    {
     "data": {
      "text/plain": [
       "<matplotlib.collections.PathCollection at 0x7f5aae7251d0>"
      ]
     },
     "execution_count": 30,
     "metadata": {},
     "output_type": "execute_result"
    },
    {
     "data": {
      "image/png": "[encoded data removed]",
      "text/plain": [
       "<Figure size 432x288 with 1 Axes>"
      ]
     },
     "metadata": {
      "needs_background": "light"
     },
     "output_type": "display_data"
    }
   ],
   "source": [
    "plt.scatter(x=x_tr, y=y_tr/B.std(y_tr))"
   ]
  },
  {
   "cell_type": "code",
   "execution_count": 40,
   "metadata": {},
   "outputs": [
    {
     "data": {
      "text/plain": [
       "<function matplotlib.pyplot.show(close=None, block=None)>"
      ]
     },
     "execution_count": 40,
     "metadata": {},
     "output_type": "execute_result"
    },
    {
     "data": {
      "image/png": "[encoded data removed]",
      "text/plain": [
       "<Figure size 432x288 with 1 Axes>"
      ]
     },
     "metadata": {
      "needs_background": "light"
     },
     "output_type": "display_data"
    }
   ],
   "source": [
    "plt.scatter(x=x_tr, y=y_tr)\n",
    "plt.scatter(x=x_te, y=y_te)\n",
    "plt.show"
   ]
  },
  {
   "cell_type": "code",
   "execution_count": 11,
   "metadata": {},
   "outputs": [
    {
     "data": {
      "image/png": "[encoded data removed]",
      "text/plain": [
       "<Figure size 432x288 with 1 Axes>"
      ]
     },
     "metadata": {
      "needs_background": "light"
     },
     "output_type": "display_data"
    }
   ],
   "source": [
    "key, x2, y2 , e1, e2 = generate_data2(key, 1000, -4, 4)\n",
    "\n",
    "x_tr, y_tr, x_te, y_te = split_data(x2, y2)\n",
    "\n",
    "x2 = x2.cpu()\n",
    "y2 = y2.cpu()\n",
    "e1 = e1.cpu()\n",
    "e2 = e2.cpu()\n",
    "\n",
    "plt.scatter(x2, y2)\n",
    "plt.show()"
   ]
  },
  {
   "cell_type": "code",
   "execution_count": null,
   "metadata": {},
   "outputs": [],
   "source": []
  }
 ],
 "metadata": {
  "kernelspec": {
   "display_name": "Python 3.9.13 ('venv')",
   "language": "python",
   "name": "python3"
  },
  "language_info": {
   "codemirror_mode": {
    "name": "ipython",
    "version": 3
   },
   "file_extension": ".py",
   "mimetype": "text/x-python",
   "name": "python",
   "nbconvert_exporter": "python",
   "pygments_lexer": "ipython3",
   "version": "3.9.13"
  },
  "orig_nbformat": 4,
  "vscode": {
   "interpreter": {
    "hash": "79600f389191c07bf098c8d280460ad7a78f6a2a873f153fb452b067513f658f"
   }
  }
 },
 "nbformat": 4,
 "nbformat_minor": 2
}
