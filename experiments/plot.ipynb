{
 "cells": [
  {
   "cell_type": "code",
   "execution_count": 2,
   "metadata": {},
   "outputs": [],
   "source": [
    "%load_ext autoreload\n",
    "%autoreload 2"
   ]
  },
  {
   "cell_type": "code",
   "execution_count": 3,
   "metadata": {},
   "outputs": [
    {
     "name": "stderr",
     "output_type": "stream",
     "text": [
      "/homes/mojb2/Thesis/GI-PVI/venv/lib/python3.7/site-packages/tqdm/auto.py:22: TqdmWarning: IProgress not found. Please update jupyter and ipywidgets. See https://ipywidgets.readthedocs.io/en/stable/user_install.html\n",
      "  from .autonotebook import tqdm as notebook_tqdm\n"
     ]
    }
   ],
   "source": [
    "import os\n",
    "import pickle\n",
    "import sys\n",
    "from pathlib import Path\n",
    "\n",
    "import lab.torch as B\n",
    "import matplotlib\n",
    "import matplotlib.pyplot as plt\n",
    "import numpy as np\n",
    "import pandas as pd\n",
    "import seaborn as sns\n",
    "import torch\n",
    "from wbml import plot\n",
    "\n",
    "# torch.set_printoptions(precision=8, sci_mode=False, edgeitems=5)\n",
    "torch.set_printoptions(profile='full') # 'short'\n",
    "\n",
    "colors = sns.color_palette(\"bright\")\n",
    "sns.set_style(\"whitegrid\")\n",
    "sns.set_palette(colors)\n",
    "matplotlib.rcParams[\"figure.dpi\"] = 500  # for high quality, retina plots\n",
    "matplotlib.use(\"Agg\")\n",
    "# from varz import Vars, namespace\n",
    "from wbml import experiment, out, plot"
   ]
  },
  {
   "cell_type": "code",
   "execution_count": 7,
   "metadata": {},
   "outputs": [],
   "source": [
    "exp_dir = \"results/07-23-19.24.09_seq-pvi-bank-1c-10g-1000l-nealprior-128b-0-05lr-10s-100m-gvi\"\n",
    "main_dir = os.path.dirname(os.path.abspath(os.getcwd()))"
   ]
  },
  {
   "cell_type": "code",
   "execution_count": 10,
   "metadata": {},
   "outputs": [],
   "source": [
    "metrics_dir = os.path.join(main_dir, exp_dir, \"metrics\")"
   ]
  },
  {
   "cell_type": "code",
   "execution_count": 15,
   "metadata": {},
   "outputs": [],
   "source": [
    "logs = {}\n",
    "for log_name in os.listdir(metrics_dir):\n",
    "    name = log_name.split('_')[0]\n",
    "    logs[name] = pd.read_csv(os.path.join(metrics_dir, log_name))"
   ]
  },
  {
   "cell_type": "code",
   "execution_count": 17,
   "metadata": {},
   "outputs": [
    {
     "data": {
      "text/html": [
       "<div>\n",
       "<style scoped>\n",
       "    .dataframe tbody tr th:only-of-type {\n",
       "        vertical-align: middle;\n",
       "    }\n",
       "\n",
       "    .dataframe tbody tr th {\n",
       "        vertical-align: top;\n",
       "    }\n",
       "\n",
       "    .dataframe thead th {\n",
       "        text-align: right;\n",
       "    }\n",
       "</style>\n",
       "<table border=\"1\" class=\"dataframe\">\n",
       "  <thead>\n",
       "    <tr style=\"text-align: right;\">\n",
       "      <th></th>\n",
       "      <th>communications</th>\n",
       "      <th>iteration</th>\n",
       "      <th>train_mll</th>\n",
       "      <th>train_acc</th>\n",
       "      <th>test_mll</th>\n",
       "      <th>test_acc</th>\n",
       "    </tr>\n",
       "  </thead>\n",
       "  <tbody>\n",
       "    <tr>\n",
       "      <th>0</th>\n",
       "      <td>0</td>\n",
       "      <td>0</td>\n",
       "      <td>-0.689368</td>\n",
       "      <td>0.883682</td>\n",
       "      <td>-0.689402</td>\n",
       "      <td>0.880336</td>\n",
       "    </tr>\n",
       "    <tr>\n",
       "      <th>1</th>\n",
       "      <td>2</td>\n",
       "      <td>1</td>\n",
       "      <td>-0.225419</td>\n",
       "      <td>0.901266</td>\n",
       "      <td>-0.233824</td>\n",
       "      <td>0.896483</td>\n",
       "    </tr>\n",
       "    <tr>\n",
       "      <th>2</th>\n",
       "      <td>4</td>\n",
       "      <td>2</td>\n",
       "      <td>-0.219282</td>\n",
       "      <td>0.904363</td>\n",
       "      <td>-0.227577</td>\n",
       "      <td>0.899248</td>\n",
       "    </tr>\n",
       "    <tr>\n",
       "      <th>3</th>\n",
       "      <td>6</td>\n",
       "      <td>3</td>\n",
       "      <td>-0.215091</td>\n",
       "      <td>0.906188</td>\n",
       "      <td>-0.223246</td>\n",
       "      <td>0.901239</td>\n",
       "    </tr>\n",
       "    <tr>\n",
       "      <th>4</th>\n",
       "      <td>8</td>\n",
       "      <td>4</td>\n",
       "      <td>-0.214032</td>\n",
       "      <td>0.906713</td>\n",
       "      <td>-0.222919</td>\n",
       "      <td>0.900575</td>\n",
       "    </tr>\n",
       "    <tr>\n",
       "      <th>5</th>\n",
       "      <td>10</td>\n",
       "      <td>5</td>\n",
       "      <td>-0.213125</td>\n",
       "      <td>0.907377</td>\n",
       "      <td>-0.221971</td>\n",
       "      <td>0.900133</td>\n",
       "    </tr>\n",
       "    <tr>\n",
       "      <th>6</th>\n",
       "      <td>12</td>\n",
       "      <td>6</td>\n",
       "      <td>-0.211779</td>\n",
       "      <td>0.907957</td>\n",
       "      <td>-0.220971</td>\n",
       "      <td>0.903229</td>\n",
       "    </tr>\n",
       "    <tr>\n",
       "      <th>7</th>\n",
       "      <td>14</td>\n",
       "      <td>7</td>\n",
       "      <td>-0.210333</td>\n",
       "      <td>0.909146</td>\n",
       "      <td>-0.219619</td>\n",
       "      <td>0.903451</td>\n",
       "    </tr>\n",
       "    <tr>\n",
       "      <th>8</th>\n",
       "      <td>16</td>\n",
       "      <td>8</td>\n",
       "      <td>-0.208476</td>\n",
       "      <td>0.909699</td>\n",
       "      <td>-0.218943</td>\n",
       "      <td>0.902234</td>\n",
       "    </tr>\n",
       "    <tr>\n",
       "      <th>9</th>\n",
       "      <td>18</td>\n",
       "      <td>9</td>\n",
       "      <td>-0.207463</td>\n",
       "      <td>0.909699</td>\n",
       "      <td>-0.217603</td>\n",
       "      <td>0.902787</td>\n",
       "    </tr>\n",
       "    <tr>\n",
       "      <th>10</th>\n",
       "      <td>20</td>\n",
       "      <td>10</td>\n",
       "      <td>-0.206500</td>\n",
       "      <td>0.910501</td>\n",
       "      <td>-0.217548</td>\n",
       "      <td>0.902345</td>\n",
       "    </tr>\n",
       "  </tbody>\n",
       "</table>\n",
       "</div>"
      ],
      "text/plain": [
       "    communications  iteration  train_mll  train_acc  test_mll  test_acc\n",
       "0                0          0  -0.689368   0.883682 -0.689402  0.880336\n",
       "1                2          1  -0.225419   0.901266 -0.233824  0.896483\n",
       "2                4          2  -0.219282   0.904363 -0.227577  0.899248\n",
       "3                6          3  -0.215091   0.906188 -0.223246  0.901239\n",
       "4                8          4  -0.214032   0.906713 -0.222919  0.900575\n",
       "5               10          5  -0.213125   0.907377 -0.221971  0.900133\n",
       "6               12          6  -0.211779   0.907957 -0.220971  0.903229\n",
       "7               14          7  -0.210333   0.909146 -0.219619  0.903451\n",
       "8               16          8  -0.208476   0.909699 -0.218943  0.902234\n",
       "9               18          9  -0.207463   0.909699 -0.217603  0.902787\n",
       "10              20         10  -0.206500   0.910501 -0.217548  0.902345"
      ]
     },
     "execution_count": 17,
     "metadata": {},
     "output_type": "execute_result"
    }
   ],
   "source": [
    "logs['server']"
   ]
  },
  {
   "cell_type": "code",
   "execution_count": null,
   "metadata": {},
   "outputs": [],
   "source": []
  },
  {
   "cell_type": "code",
   "execution_count": null,
   "metadata": {},
   "outputs": [],
   "source": []
  },
  {
   "cell_type": "code",
   "execution_count": 8,
   "metadata": {},
   "outputs": [],
   "source": [
    "vs_path = os.path.join(exp_dir, \"model/_vs.pt\")\n",
    "vs_state_dict = torch.load(os.path.join(main_dir, vs_path))"
   ]
  },
  {
   "cell_type": "code",
   "execution_count": null,
   "metadata": {},
   "outputs": [],
   "source": []
  }
 ],
 "metadata": {
  "kernelspec": {
   "display_name": "Python 3.7.12 ('venv': virtualenv)",
   "language": "python",
   "name": "python3"
  },
  "language_info": {
   "codemirror_mode": {
    "name": "ipython",
    "version": 3
   },
   "file_extension": ".py",
   "mimetype": "text/x-python",
   "name": "python",
   "nbconvert_exporter": "python",
   "pygments_lexer": "ipython3",
   "version": "3.7.12"
  },
  "orig_nbformat": 4,
  "vscode": {
   "interpreter": {
    "hash": "03554a3b958796e9f601eb4c099ea8a724837ec686441e47caabab69f1671920"
   }
  }
 },
 "nbformat": 4,
 "nbformat_minor": 2
}
